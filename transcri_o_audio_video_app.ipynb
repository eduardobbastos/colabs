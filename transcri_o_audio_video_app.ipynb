{
  "nbformat": 4,
  "nbformat_minor": 0,
  "metadata": {
    "colab": {
      "provenance": [],
      "gpuType": "T4",
      "include_colab_link": true
    },
    "kernelspec": {
      "name": "python3",
      "display_name": "Python 3"
    },
    "language_info": {
      "name": "python"
    },
    "accelerator": "GPU"
  },
  "cells": [
    {
      "cell_type": "markdown",
      "metadata": {
        "id": "view-in-github",
        "colab_type": "text"
      },
      "source": [
        "<a href=\"https://colab.research.google.com/github/eduardobbastos/colabs/blob/main/transcri_o_audio_video_app.ipynb\" target=\"_parent\"><img src=\"https://colab.research.google.com/assets/colab-badge.svg\" alt=\"Open In Colab\"/></a>"
      ]
    },
    {
      "cell_type": "markdown",
      "source": [
        "# 🎧📝 Transcrição automática de áudio ou vídeo no Google Colab\n",
        "\n",
        "Bem-vindo! Este notebook permite **extrair a transcrição de qualquer áudio ou vídeo**, seja por upload de arquivo ou por URL (YouTube, Vimeo, Spotify, etc.), usando o modelo Whisper da OpenAI.\n",
        "\n",
        "## **Como usar este notebook**\n",
        "\n",
        "1. **Execute a célula de instalação de pacotes:**  \n",
        "   Clique no botão de “play” (▶️) na primeira célula de código para instalar as dependências necessárias.  \n",
        "   _Aguarde até aparecer “Successfully installed...” antes de seguir para as próximas células._\n",
        "\n",
        "2. **Rode a célula principal do código:**  \n",
        "   - Escolha o que você deseja transcrever:\n",
        "     - **1** para vídeo (áudio será extraído automaticamente)\n",
        "     - **2** para áudio (direto do arquivo ou da URL)\n",
        "   - Depois, escolha entre fazer upload do arquivo ou informar a URL.\n",
        "     - **Upload:** selecione o arquivo do seu computador.\n",
        "     - **URL:** cole o link do vídeo ou do áudio (ex: do YouTube, Vimeo, ou link direto de áudio .mp3).\n",
        "   - O notebook irá baixar/processar seu arquivo, extrair o áudio se for vídeo e gerar a transcrição.\n",
        "\n",
        "3. **Aguarde a transcrição:**  \n",
        "   O tempo de processamento depende do tamanho do arquivo e do modelo usado (por padrão, o modelo é `medium`, com boa fidelidade).\n",
        "\n",
        "4. **Baixe o arquivo de transcrição:**  \n",
        "   Após o processamento, um arquivo `.txt` com o texto transcrito será gerado e disponibilizado para download.\n",
        "\n",
        "---\n",
        "\n",
        "> **Dica:**  \n",
        "> Para máxima qualidade, utilize arquivos com boa clareza de áudio.  \n",
        "> Para arquivos longos ou para máxima precisão, você pode alterar o modelo para `\"large\"` no código, mas pode demorar mais e consumir mais memória.\n",
        "\n",
        "---\n",
        "\n",
        "Pronto! Agora, basta seguir as instruções no notebook e processar seus áudios e vídeos para obter a transcrição em texto, pronta para ser usada em qualquer aplicação de IA ou automação.\n",
        "\n"
      ],
      "metadata": {
        "id": "WT0GNGdazwh_"
      }
    },
    {
      "cell_type": "code",
      "execution_count": null,
      "metadata": {
        "id": "0MAlyeJD8twn"
      },
      "outputs": [],
      "source": [
        "!pip install git+https://github.com/openai/whisper.git\n",
        "!sudo apt update && sudo apt install ffmpeg\n",
        "!pip install moviepy yt-dlp"
      ]
    },
    {
      "cell_type": "markdown",
      "source": [],
      "metadata": {
        "id": "XPehmRJb4xe0"
      }
    },
    {
      "cell_type": "code",
      "source": [
        "import yt_dlp\n",
        "import os\n",
        "from moviepy import VideoFileClip\n",
        "from google.colab import files\n",
        "import whisper\n",
        "from datetime import datetime\n",
        "\n",
        "# Função para gerar timestamp\n",
        "def get_timestamp():\n",
        "    return datetime.now().strftime('%Y%m%d_%H%M%S')\n",
        "\n",
        "def download_video(url, output_path_base='downloaded_video'):\n",
        "    timestamp = get_timestamp()\n",
        "    output_path = f\"{output_path_base}_{timestamp}\"\n",
        "    ydl_opts = {\n",
        "        'format': 'bestvideo+bestaudio/best',\n",
        "        'outtmpl': f'{output_path}.%(ext)s',\n",
        "        'merge_output_format': 'mp4'\n",
        "    }\n",
        "    with yt_dlp.YoutubeDL(ydl_opts) as ydl:\n",
        "        info = ydl.extract_info(url, download=True)\n",
        "        if 'requested_downloads' in info:\n",
        "            ext = info['requested_downloads'][0]['ext']\n",
        "        else:\n",
        "            ext = info['ext'] if 'ext' in info else 'mp4'\n",
        "    return f\"{output_path}.{ext}\"\n",
        "\n",
        "def download_audio(url, output_path_base='downloaded_audio'):\n",
        "    timestamp = get_timestamp()\n",
        "    output_path = f\"{output_path_base}_{timestamp}\"\n",
        "    ydl_opts = {\n",
        "        'format': 'bestaudio/best',\n",
        "        'outtmpl': f'{output_path}.%(ext)s',\n",
        "        'postprocessors': [{\n",
        "            'key': 'FFmpegExtractAudio',\n",
        "            'preferredcodec': 'mp3',\n",
        "            'preferredquality': '192',\n",
        "        }],\n",
        "        'prefer_ffmpeg': True\n",
        "    }\n",
        "    with yt_dlp.YoutubeDL(ydl_opts) as ydl:\n",
        "        info = ydl.extract_info(url, download=True)\n",
        "        if 'requested_downloads' in info:\n",
        "            ext = info['requested_downloads'][0]['ext']\n",
        "        else:\n",
        "            ext = info['ext'] if 'ext' in info else 'mp3'\n",
        "    return f\"{output_path}.mp3\"\n",
        "\n",
        "# --- Interface de escolha do usuário ---\n",
        "print('O que você deseja transcrever?')\n",
        "print('1 - Vídeo (o áudio será extraído)')\n",
        "print('2 - Áudio (direto do arquivo ou URL)')\n",
        "task = input('Digite 1 ou 2: ').strip()\n",
        "\n",
        "if task == '1':\n",
        "    print('Transcrição de VÍDEO selecionada.')\n",
        "    print('Escolha o método:\\n1 - Upload do arquivo de vídeo\\n2 - URL de vídeo')\n",
        "    method = input('Digite 1 ou 2: ').strip()\n",
        "    if method == '1':\n",
        "        print('Faça upload do seu vídeo...')\n",
        "        uploaded = files.upload()\n",
        "        video_path_base = list(uploaded.keys())[0]\n",
        "        file_ext = os.path.splitext(video_path_base)[1]\n",
        "        timestamp = get_timestamp()\n",
        "        video_path = f\"{os.path.splitext(video_path_base)[0]}_{timestamp}{file_ext}\"\n",
        "        os.rename(video_path_base, video_path)\n",
        "    elif method == '2':\n",
        "        url = input('Cole a URL do vídeo: ').strip()\n",
        "        print('Baixando vídeo...')\n",
        "        video_path = download_video(url)\n",
        "        print('Download concluído:', video_path)\n",
        "    else:\n",
        "        print('Opção inválida.')\n",
        "        raise SystemExit\n",
        "    # Extrair áudio do vídeo\n",
        "    print('Extraindo áudio do vídeo...')\n",
        "    audio_path = os.path.splitext(video_path)[0] + '_audio.mp3'\n",
        "    clip = VideoFileClip(video_path)\n",
        "    clip.audio.write_audiofile(audio_path, codec='mp3', bitrate='320k')\n",
        "    clip.close()\n",
        "elif task == '2':\n",
        "    print('Transcrição de ÁUDIO selecionada.')\n",
        "    print('Escolha o método:\\n1 - Upload do arquivo de áudio\\n2 - URL de áudio')\n",
        "    method = input('Digite 1 ou 2: ').strip()\n",
        "    if method == '1':\n",
        "        print('Faça upload do seu áudio...')\n",
        "        uploaded = files.upload()\n",
        "        audio_path_base = list(uploaded.keys())[0]\n",
        "        file_ext = os.path.splitext(audio_path_base)[1]\n",
        "        timestamp = get_timestamp()\n",
        "        audio_path = f\"{os.path.splitext(audio_path_base)[0]}_{timestamp}{file_ext}\"\n",
        "        os.rename(audio_path_base, audio_path)\n",
        "    elif method == '2':\n",
        "        url = input('Cole a URL do áudio: ').strip()\n",
        "        print('Baixando áudio...')\n",
        "        audio_path = download_audio(url)\n",
        "        print('Download concluído:', audio_path)\n",
        "    else:\n",
        "        print('Opção inválida.')\n",
        "        raise SystemExit\n",
        "else:\n",
        "    print('Opção inválida.')\n",
        "    raise SystemExit\n",
        "\n",
        "# --- Transcrição automática ---\n",
        "print('Carregando modelo Whisper (medium)...')\n",
        "model = whisper.load_model(\"medium\")  # Altere para \"large\" se quiser máxima fidelidade\n",
        "print('Transcrevendo, aguarde...')\n",
        "result = model.transcribe(audio_path, fp16=False, language=\"pt\")\n",
        "\n",
        "# --- Salvar e baixar transcrição ---\n",
        "txt_path = os.path.splitext(audio_path)[0] + '_transcription.txt'\n",
        "with open(txt_path, \"w\", encoding=\"utf-8\") as f:\n",
        "    f.write(result[\"text\"])\n",
        "print('Transcrição salva em:', txt_path)\n",
        "files.download(txt_path)\n",
        "print('Processo finalizado com sucesso!')\n"
      ],
      "metadata": {
        "id": "_7R-rC669OFQ"
      },
      "execution_count": null,
      "outputs": []
    },
    {
      "cell_type": "markdown",
      "source": [],
      "metadata": {
        "id": "jASaf3r783-a"
      }
    }
  ]
}